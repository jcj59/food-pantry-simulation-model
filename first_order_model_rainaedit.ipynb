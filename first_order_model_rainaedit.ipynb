{
 "cells": [
  {
   "cell_type": "markdown",
   "id": "f5e19300",
   "metadata": {},
   "source": [
    "# FIRST ORDER MODEL FOR PROPOSED ENFIELD BUILDING"
   ]
  },
  {
   "cell_type": "code",
   "execution_count": 2,
   "id": "ac034191",
   "metadata": {},
   "outputs": [],
   "source": [
    "import pandas as pd\n",
    "import numpy as np\n",
    "import random\n",
    "from collections import deque\n",
    "import matplotlib.pyplot as plt"
   ]
  },
  {
   "cell_type": "code",
   "execution_count": 3,
   "id": "ebc8eca0",
   "metadata": {},
   "outputs": [],
   "source": [
    "class Person:\n",
    "    \"\"\"\n",
    "    A class that represents a person at the food pantry.\n",
    "    \"\"\"\n",
    "    # ATTRIBUTES:\n",
    "    # Attribute order: the order the person visits the pressure points in the food pantry\n",
    "    # Invariant: order is a list of Pressure_Points\n",
    "    #\n",
    "    # Attribute available: whether or not the person is available to go to the next station\n",
    "    # Invariant: available is a boolean value\n",
    "    #\n",
    "    # Attribute enter: the time the person enters the food pantry\n",
    "    # Invariant: enter is a positive int\n",
    "    #\n",
    "    # Attribute leave: the time the person leaves the food pantry\n",
    "    # Invariant: leave is a positive int\n",
    "    #\n",
    "    # Attribute shopping_time: the total time spent shopping\n",
    "    # Invariant: shopping_time is an int which is the sum of each Pressure_Point.time in self.order\n",
    "    \n",
    "    \n",
    "    \n",
    "    def __init__(self, model):\n",
    "        \"\"\"\n",
    "        Initializes a Person object entering Model model.\n",
    "        \"\"\"\n",
    "        self.order = model.pressure_points.copy()\n",
    "        \n",
    "        # Randomly chooses whether person goes to each station based on Pressure_Point.p\n",
    "        i=0\n",
    "        while i < len(self.order):\n",
    "            if np.random.uniform() > self.order[i].p:\n",
    "                self.order.pop(i)\n",
    "            else:\n",
    "                i += 1\n",
    "#         random.shuffle(self.order)\n",
    "\n",
    "        # forces \"load car\" to be the LAST station visited \n",
    "        copy = self.order[-1:]\n",
    "        random.shuffle(copy)\n",
    "        self.order[-1:] = copy\n",
    "        \n",
    "        # Set total time spent shopping\n",
    "        self.shopping_time = 0\n",
    "        \n",
    "        # Set remaining attributes\n",
    "        self.enter = model.iterations\n",
    "        self.available = True\n",
    "        self.leave = -1 #set this to -1 to indicate they haven't left yet\n",
    "        \n",
    "    def setLeave(self, iterations):\n",
    "        \"\"\"\n",
    "        Sets the time the person leaves the food pantry.\n",
    "        \"\"\"\n",
    "        self.leave = iterations\n",
    "        \n",
    "    def __str__(self):\n",
    "        \"\"\"\n",
    "        Returns a string representing the person. i.e. the stations the person has to visit\n",
    "        \"\"\"\n",
    "        str = \"Stations remaining: \"\n",
    "        for i in self.order:\n",
    "            str += \", \" + i.name\n",
    "        return str\n",
    "    \n",
    "class Car:\n",
    "    \"\"\"\n",
    "    A class that represents a car at the food pantry parking lot.\n",
    "    \"\"\"\n",
    "    # ATTRIBUTES:\n",
    "    # Attribute parked: binary if car is parked or not\n",
    "    # Invariant: parked is True or False \n",
    "    \n",
    "    def __init__(self, model):\n",
    "        \"\"\"\n",
    "        Initializes a Car object entering Model model.\n",
    "        \"\"\"\n",
    "        self.parked = False;\n",
    "        self.riders = []\n",
    "        for i in range(model.per_car):\n",
    "            #create per_car number of people to go in this car\n",
    "            self.riders.append(Person(model))\n",
    "            \n",
    "    def getRidersDone(self):\n",
    "        \"\"\"\n",
    "        Returns a boolean stating if all of the riders in this car have completed all of their tasks\n",
    "        \"\"\"\n",
    "        riders_done = 0\n",
    "        for i in self.riders:\n",
    "            if (len(i.order)==0 and i.available):\n",
    "                riders_done += 1\n",
    "        if(riders_done == per_car):\n",
    "            return True\n",
    "        else: \n",
    "            return False\n",
    "        \n",
    "    def __str__(self):\n",
    "        \"\"\"\n",
    "        Returns a string representing the person. i.e. the stations the person has to visit\n",
    "        \"\"\"\n",
    "        str = \"car\"\n",
    "        return str\n",
    "        \n",
    "        \n",
    "    \n",
    "class Pressure_Point:\n",
    "    \"\"\"\n",
    "    A class that represents a pressure point in the food pantry.\n",
    "    \"\"\"\n",
    "    # ATTRIBUTES:\n",
    "    # Attribute name: the name of the pressure point\n",
    "    # Invariant: name is a string\n",
    "    #\n",
    "    # Attribute capacity: the number of people that can shop at the pressure point at a time\n",
    "    # Invariant: capacity is an int >= 0\n",
    "    #\n",
    "    # Attribute time: the time people spend at the pressure point\n",
    "    # Invariant: time is an int >= 1\n",
    "    #\n",
    "    # Attribute atCapacity: whether or not the pressure point is full\n",
    "    # Invariant: atCapacity is a boolean value\n",
    "    #\n",
    "    # Attribute people: the people shopping at the pressure point\n",
    "    # Invariant: people is a list of People objects\n",
    "    #\n",
    "    # Attribute timeRemaining: the time each person in self.people has remaining at the pressure point\n",
    "    # Invariant: timeRemaining is a list of ints >= 0 with the same length as self.people\n",
    "    #\n",
    "    # Attribute p: the probability a person shops at this pressure point\n",
    "    # Invariant: p is an int or float between 0 and 1\n",
    "    \n",
    "    \n",
    "    \n",
    "    def __init__(self, name, capacity, time, p = 1):\n",
    "        \"\"\"\n",
    "        Initializes a Pressure_Point object.\n",
    "        \"\"\"\n",
    "        self.name = name\n",
    "        self.capacity = capacity\n",
    "        self.time = time\n",
    "        self.atCapacity = False\n",
    "        self.people = []\n",
    "        self.timeRemaining = []\n",
    "        self.p = p\n",
    "        \n",
    "        \n",
    "    def update(self):\n",
    "        \"\"\"\n",
    "        Updates attributes of the Pressure_Point after one minute has passed.\n",
    "        \"\"\"\n",
    "        i = 0\n",
    "        while i < len(self.timeRemaining):\n",
    "            self.timeRemaining[i] -= 1\n",
    "            if self.timeRemaining[i] < 0:\n",
    "                self.timeRemaining.pop(i)\n",
    "                self.people[i].available = True\n",
    "                self.people.pop(i)\n",
    "                self.atCapacity = False\n",
    "            else:\n",
    "                i += 1\n",
    "            \n",
    "    def add(self, person):\n",
    "        \"\"\"\n",
    "        Attempts to add Person person to shop at this Pressure_Point.\n",
    "        \"\"\"\n",
    "        # Checks if full\n",
    "        if not self.atCapacity:\n",
    "            person.available = False\n",
    "            self.people.append(person)\n",
    "            t = int(np.random.exponential(self.time))\n",
    "            self.timeRemaining.append(t)\n",
    "            person.shopping_time += t\n",
    "            person.order.pop(0)\n",
    "            if len(self.people) == self.capacity:\n",
    "                self.atCapacity = True\n",
    "    \n",
    "    def __str__(self):\n",
    "        \"\"\"\n",
    "        Returns a string representing this pressure point. \n",
    "        i.e. how much time each person at the pressure point has left to shop.\n",
    "        \"\"\"\n",
    "        #return \"Number of People: \" + str(len(self.people))\n",
    "        return \"Time Remaining: \" + str(self.timeRemaining)\n",
    "\n",
    "class Model:\n",
    "    \"\"\"\n",
    "    A class that represents a simulation model.\n",
    "    \"\"\"\n",
    "    # ATTRIBUTES:\n",
    "    # Attribute cars: the number of cars that arrive at the food pantry daily\n",
    "    # Invariant: cars is an int or float >= 0\n",
    "    #\n",
    "    # Attribute per_car: the number of adults in each car\n",
    "    # Invariant: per_car is an int > 0\n",
    "    #\n",
    "    # Attribute parking_lot: list of cars in the parking lot\n",
    "    # Invariant: parking_lot is a list, make sure it does not exceed size parking_spots\n",
    "    #\n",
    "    # Attribute parking_spots: maxmimum number of cars that can park in lot at once\n",
    "    # Invariant: parking_spots is an int >= 0\n",
    "    #\n",
    "    # Attribute parking_queue: a queue of cars that have arrived but cannot park\n",
    "    # Invariant: parking_queue is an queue > 0\n",
    "    #\n",
    "    # Attribute hours_open: the number of hours open per day\n",
    "    # Invariant: hours_open is an int or float >= 0\n",
    "    #\n",
    "    # Attribute arrival_rate: the number of cars that arrive at the food pantry per minute\n",
    "    # Invariant: arrival_rate is an int or float >= 0\n",
    "    #\n",
    "    # Attribute pressure_points: the pressure_points in the food pantry\n",
    "    # Invariant: pressure_points is a list of Pressure_Point objects\n",
    "    #\n",
    "    # Attribute iterations: how many minutes have been simulated in the model\n",
    "    # Invariant: iterations is an int >= 0\n",
    "    #\n",
    "    # Attribute people: the people currently in the food pantry\n",
    "    # Invariant: people is a list of People objects\n",
    "    #\n",
    "    # Attribute arrival_count: the amount of people that should have shown up since the last person\n",
    "    # Invariant: arrival_count is an int or float >= 0\n",
    "    #\n",
    "    # Attribute people_arrived: the amount of people who arrived on the current day and entered the building\n",
    "    # Invariant: people_arrived is an int >= 0\n",
    "    #\n",
    "    # Attribute people_arrived_car: the amount of people who arrived on the current day via car, may not have entered building\n",
    "    # Invariant: people_arrived_car is an int >= 0\n",
    "    #\n",
    "    # Attribute cars_arrived: the amount of cars who arrived on the current day\n",
    "    # Invariant: cars_arrived is an int >= 0\n",
    "    #\n",
    "    # Attribute parking_queue_length: the amount of cars in the parking queue\n",
    "    # Invariant: parking_queue_length is an int >= 0\n",
    "    #\n",
    "    # Attribute day: the current day being simulated\n",
    "    # Invariant: day is an int >= 0\n",
    "    #\n",
    "    # Attribute stats: the data collected from simulating\n",
    "    # Invariant: stats is a list of pandas DataFrames\n",
    "    #\n",
    "    # Attribute arrival_stats: the amount of people who arrived on each day\n",
    "    # Invariant: arrival_stats is a list of ints >= 0\n",
    "    #\n",
    "    # Attribute car_arrival_stats: the amount of cars that arrived on each day\n",
    "    # Invariant: car_arrival_stats is a list of ints >= 0\n",
    "    #\n",
    "    # Attribute people_df: the people stats for the current day\n",
    "    # Invariant: people_df is a pandas DataFrame\n",
    "    #\n",
    "    # Attribute flow_df: the flow stats for current day\n",
    "    # Invariant: flow_df is a pandas DataFrame\n",
    "    \n",
    "    \n",
    "    \n",
    "    def setPressurePoints(self, names, times, capacities, ps):\n",
    "        \"\"\"\n",
    "        Initializes self.pressure_points.\n",
    "        \"\"\"\n",
    "        assert len(names) == len(times)\n",
    "        assert len(names) == len(capacities)\n",
    "        \n",
    "        self.pressure_points = []\n",
    "        \n",
    "        for i in range(len(names)):\n",
    "            self.pressure_points.append(Pressure_Point(names[i], capacities[i], times[i], ps[i]))\n",
    "    \n",
    "    \n",
    "    def __init__(self, cars, per_car, parking_spots, hours_open, names, times, capacities, ps):\n",
    "        \"\"\"\n",
    "        Initializes an instance of a model.\n",
    "        \"\"\"\n",
    "        self.cars = cars\n",
    "        self.per_car = per_car\n",
    "        self.parking_spots = parking_spots\n",
    "        self.parking_lot = [] #added parking lot list, manually need to make sure it doesn't go over parking_spots\n",
    "        self.parking_queue = deque() #added empty queue for parking\n",
    "        self.arrival_rate = cars / (hours_open * 60)\n",
    "        self.hours_open = hours_open\n",
    "        self.setPressurePoints(names, times, capacities, ps)\n",
    "        self.iterations = 0\n",
    "        self.people = []\n",
    "        self.arrival_count = 0\n",
    "        self.people_arrived = 0\n",
    "        self.cars_arrived = 0\n",
    "        self.parking_queue_length = 0\n",
    "        self.people_arrived_car = 0 #added to count total number of ppl who arrived, but may not have gotten into building\n",
    "        self.day = 0\n",
    "        self.stats = []\n",
    "        self.arrival_stats = []\n",
    "        self.people_df = pd.DataFrame(columns = ['day', 'enter', 'leave', 'total_time', 'shopping_time', 'waiting_time'])\n",
    "        self.flow_df = pd.DataFrame(columns = ['day', 'minute', 'number_of_people', 'parking lot', 'parking queue'])\n",
    "        \n",
    "        \n",
    "    def iterate(self):\n",
    "        \"\"\"\n",
    "        Performs the actions of one minute in the food pantry.\n",
    "        \"\"\"\n",
    "        self.iterations += 1\n",
    "        # self.arrival_count += self.arrival_rate # use this for if arrival rate is constant\n",
    "        self.arrival_count += np.random.poisson(self.arrival_rate) # use this for is arrival rate is poisson\n",
    "        \n",
    "        # uncomment below to use a right-skewed arrival rate with 20% of cars arriving at minute 1 (visualization 2)\n",
    "#         if(self.iterations==1 or self.iterations % (self.hours_open*60) == 1): # iteration 1 or 181, etc.\n",
    "#             self.arrival_count += int(0.25*self.cars)\n",
    "#         else:\n",
    "#             self.arrival_count += np.random.poisson((self.cars - int(0.25*self.cars)) / (self.hours_open * 60)) #poisson for remaining \n",
    "        \n",
    "#         print('iteration:', self.iterations, 'people arrived:', self.arrival_count)\n",
    "        \n",
    "        # Simulate cars arriving\n",
    "        while self.arrival_count >= 1:\n",
    "            # add car to parking queue\n",
    "            current_car = Car(self)\n",
    "            self.parking_queue.append(current_car)\n",
    "            self.cars_arrived += 1\n",
    "            self.arrival_count -= 1\n",
    "            for rider in current_car.riders:\n",
    "                self.people_arrived_car += 1\n",
    "#             print('car was added to queue')\n",
    "            \n",
    "            \n",
    "        # If there are open parking spots, let people in queue park\n",
    "        while len(self.parking_lot)<self.parking_spots and len(self.parking_queue)>0:\n",
    "            queue_car = self.parking_queue.popleft()\n",
    "            self.parking_lot.append(queue_car)\n",
    "            for rider in queue_car.riders:\n",
    "                self.people.append(rider) #add rider to people lsit\n",
    "                self.people_arrived += 1 # increase number of people at the store \n",
    "#             print('car was able to park')\n",
    "        self.parking_queue_length += len(self.parking_queue)\n",
    "        \n",
    "        # Update each Pressure_Point\n",
    "        for i in self.pressure_points:\n",
    "            i.update()\n",
    "        \n",
    "        # Simulate people leaving and shopping at each Pressure_Point and collect data\n",
    "        i = 0\n",
    "        while i < len(self.people):\n",
    "            if len(self.people[i].order) == 0 and self.people[i].available:\n",
    "                self.people[i].setLeave(self.iterations)\n",
    "                self.people_df.loc[len(self.people_df.index)] = [self.day, self.people[i].enter - (60 * self.hours_open * (self.day - 1)), \n",
    "                                                                 self.people[i].leave - (60 * self.hours_open * (self.day - 1)), \n",
    "                                                           self.people[i].leave - self.people[i].enter,\n",
    "                                                           self.people[i].shopping_time, \n",
    "                                                           self.people[i].leave - self.people[i].enter - self.people[i].shopping_time]\n",
    "                self.people.pop(i) \n",
    "            else:\n",
    "                if self.people[i].available:\n",
    "                    self.people[i].order[0].add(self.people[i])\n",
    "                i += 1\n",
    "        for cars in self.parking_lot:\n",
    "            if(cars.getRidersDone()):\n",
    "                self.parking_lot.remove(cars)\n",
    "#                 print('CAR HAS BEEN REMOVED')\n",
    "        \n",
    "        self.flow_df.loc[len(self.flow_df.index)] = [self.day, self.iterations - (60 * self.hours_open * (self.day - 1)), len(self.people), len(self.parking_lot), len(self.parking_queue)]\n",
    "        # Print the state of the model\n",
    "#         self.print_state()\n",
    "                \n",
    "            \n",
    "    def simulate_day(self):\n",
    "        \"\"\"\n",
    "        Runs simulation for one day.\n",
    "        \"\"\"\n",
    "        self.day += 1\n",
    "        i = 0\n",
    "        self.arrival_count = 0\n",
    "        self.people_arrived = 0\n",
    "        self.people_arrived_car = 0\n",
    "        self.cars_arrived = 0\n",
    "        self.parking_queue_length = 0\n",
    "        self.parking_lot = []\n",
    "        self.parking_queue = deque()\n",
    "        self.people = []\n",
    "        self.people_df = pd.DataFrame(columns = ['day', 'enter', 'leave', 'total_time', 'shopping_time', 'waiting_time'])\n",
    "        self.flow_df = pd.DataFrame(columns = ['day', 'minute', 'number_of_people', 'parking lot', 'parking queue'])\n",
    "        while i < self.hours_open * 60:\n",
    "            i += 1\n",
    "            self.iterate()\n",
    "        self.stats.append([self.people_df, self.flow_df])\n",
    "        self.arrival_stats.append([self.people_arrived,\n",
    "                                   self.people_arrived_car,\n",
    "                                   self.cars_arrived,\n",
    "                                   self.parking_queue_length/(self.hours_open * 60)])\n",
    "        \n",
    "        \n",
    "    def print_state(self):\n",
    "        \"\"\"\n",
    "        Prints the current state of the model.\n",
    "        \"\"\"\n",
    "        print('TIME: ', self.iterations)\n",
    "        print(\"PARKING LOT:\", len(self.parking_lot))\n",
    "#         for i in self.parking_lot:\n",
    "#             print(str(i))\n",
    "        print(\"PARKING QUEUE:\", len(self.parking_queue))\n",
    "#         for i in self.parking_queue:\n",
    "#             print(str(i))\n",
    "        print(\"PEOPLE:\")\n",
    "        for i in self.people:\n",
    "            print(str(i))\n",
    "        print(\"PRESSURE POINTS:\")\n",
    "        for i in self.pressure_points:\n",
    "            print(str(i))\n",
    "        print(\"--------\")\n",
    "                \n",
    "                \n",
    "    def simulate(self, days):\n",
    "        \"\"\"\n",
    "        Runs the simulation for days days.\n",
    "        \"\"\"\n",
    "        for i in range(days):\n",
    "            self.simulate_day()"
   ]
  },
  {
   "cell_type": "code",
   "execution_count": 4,
   "id": "a0c959fe",
   "metadata": {},
   "outputs": [],
   "source": [
    "# Initialize the model with given data from Enfield\n",
    "cars = 100\n",
    "per_car = 2\n",
    "parking_spots = 20\n",
    "hours_open = 3\n",
    "names = [\"rescued produce\", \"assorted meats\", \"baked goods\", \"clothes\", \"load car\"]\n",
    "times = [5, 5, 5, 10, 4]\n",
    "capacities = [3, 3, 3, 7, 1000] # capacity for loading car should be infinite since (assume less than 1000 shoppers at a time)\n",
    "ps = [1, 1, 1, .25, 1]\n",
    "enfield = Model(cars, per_car, parking_spots, hours_open, names, times, capacities, ps)"
   ]
  },
  {
   "cell_type": "code",
   "execution_count": 140,
   "id": "c6a10fdb",
   "metadata": {},
   "outputs": [],
   "source": [
    "# Run the simulation for 14 days\n",
    "enfield.simulate(1)"
   ]
  },
  {
   "cell_type": "code",
   "execution_count": 141,
   "id": "ed3f4b2f",
   "metadata": {},
   "outputs": [
    {
     "data": {
      "text/html": [
       "<div>\n",
       "<style scoped>\n",
       "    .dataframe tbody tr th:only-of-type {\n",
       "        vertical-align: middle;\n",
       "    }\n",
       "\n",
       "    .dataframe tbody tr th {\n",
       "        vertical-align: top;\n",
       "    }\n",
       "\n",
       "    .dataframe thead th {\n",
       "        text-align: right;\n",
       "    }\n",
       "</style>\n",
       "<table border=\"1\" class=\"dataframe\">\n",
       "  <thead>\n",
       "    <tr style=\"text-align: right;\">\n",
       "      <th></th>\n",
       "      <th>day</th>\n",
       "      <th>shoppers_served</th>\n",
       "      <th>shoppers_arrived</th>\n",
       "      <th>people_arrived</th>\n",
       "      <th>cars_arrived</th>\n",
       "      <th>avg_parking_queue</th>\n",
       "      <th>avg_total_time</th>\n",
       "      <th>avg_shopping_time</th>\n",
       "      <th>avg_waiting_time</th>\n",
       "    </tr>\n",
       "  </thead>\n",
       "  <tbody>\n",
       "    <tr>\n",
       "      <th>0</th>\n",
       "      <td>1.0</td>\n",
       "      <td>68.0</td>\n",
       "      <td>104.0</td>\n",
       "      <td>172.0</td>\n",
       "      <td>86.0</td>\n",
       "      <td>14.383333</td>\n",
       "      <td>80.573529</td>\n",
       "      <td>18.823529</td>\n",
       "      <td>61.75</td>\n",
       "    </tr>\n",
       "  </tbody>\n",
       "</table>\n",
       "</div>"
      ],
      "text/plain": [
       "   day  shoppers_served  shoppers_arrived  people_arrived  cars_arrived  \\\n",
       "0  1.0             68.0             104.0           172.0          86.0   \n",
       "\n",
       "   avg_parking_queue  avg_total_time  avg_shopping_time  avg_waiting_time  \n",
       "0          14.383333       80.573529          18.823529             61.75  "
      ]
     },
     "execution_count": 141,
     "metadata": {},
     "output_type": "execute_result"
    }
   ],
   "source": [
    "# Collect aggregate data in one DataFrame\n",
    "df = pd.DataFrame(columns = ['day',\n",
    "                             'shoppers_served',\n",
    "                             'shoppers_arrived',\n",
    "                             'people_arrived',\n",
    "                             'cars_arrived',\n",
    "                             'avg_parking_queue',\n",
    "                             'avg_total_time',\n",
    "                             'avg_shopping_time',\n",
    "                             'avg_waiting_time'])\n",
    "\n",
    "for i in range(len(enfield.stats)):\n",
    "    df.loc[i] = [int(enfield.stats[i][0]['day'][0]),\n",
    "                             len(enfield.stats[i][0].index),\n",
    "                             enfield.arrival_stats[i][0],\n",
    "                             enfield.arrival_stats[i][1],\n",
    "                             enfield.arrival_stats[i][2],\n",
    "                             enfield.arrival_stats[i][3],\n",
    "                             enfield.stats[i][0]['total_time'].mean(),\n",
    "                             enfield.stats[i][0]['shopping_time'].mean(),\n",
    "                             enfield.stats[i][0]['waiting_time'].mean()]\n",
    "df"
   ]
  },
  {
   "cell_type": "code",
   "execution_count": 142,
   "id": "eae627ba",
   "metadata": {},
   "outputs": [
    {
     "data": {
      "text/html": [
       "<div>\n",
       "<style scoped>\n",
       "    .dataframe tbody tr th:only-of-type {\n",
       "        vertical-align: middle;\n",
       "    }\n",
       "\n",
       "    .dataframe tbody tr th {\n",
       "        vertical-align: top;\n",
       "    }\n",
       "\n",
       "    .dataframe thead th {\n",
       "        text-align: right;\n",
       "    }\n",
       "</style>\n",
       "<table border=\"1\" class=\"dataframe\">\n",
       "  <thead>\n",
       "    <tr style=\"text-align: right;\">\n",
       "      <th></th>\n",
       "      <th>day</th>\n",
       "      <th>enter</th>\n",
       "      <th>leave</th>\n",
       "      <th>total_time</th>\n",
       "      <th>shopping_time</th>\n",
       "      <th>waiting_time</th>\n",
       "    </tr>\n",
       "  </thead>\n",
       "  <tbody>\n",
       "    <tr>\n",
       "      <th>0</th>\n",
       "      <td>1</td>\n",
       "      <td>1</td>\n",
       "      <td>15</td>\n",
       "      <td>14</td>\n",
       "      <td>7</td>\n",
       "      <td>7</td>\n",
       "    </tr>\n",
       "    <tr>\n",
       "      <th>1</th>\n",
       "      <td>1</td>\n",
       "      <td>1</td>\n",
       "      <td>19</td>\n",
       "      <td>18</td>\n",
       "      <td>14</td>\n",
       "      <td>4</td>\n",
       "    </tr>\n",
       "    <tr>\n",
       "      <th>2</th>\n",
       "      <td>1</td>\n",
       "      <td>1</td>\n",
       "      <td>22</td>\n",
       "      <td>21</td>\n",
       "      <td>17</td>\n",
       "      <td>4</td>\n",
       "    </tr>\n",
       "    <tr>\n",
       "      <th>3</th>\n",
       "      <td>1</td>\n",
       "      <td>2</td>\n",
       "      <td>29</td>\n",
       "      <td>27</td>\n",
       "      <td>19</td>\n",
       "      <td>8</td>\n",
       "    </tr>\n",
       "    <tr>\n",
       "      <th>4</th>\n",
       "      <td>1</td>\n",
       "      <td>1</td>\n",
       "      <td>31</td>\n",
       "      <td>30</td>\n",
       "      <td>26</td>\n",
       "      <td>4</td>\n",
       "    </tr>\n",
       "  </tbody>\n",
       "</table>\n",
       "</div>"
      ],
      "text/plain": [
       "  day enter leave total_time shopping_time waiting_time\n",
       "0   1     1    15         14             7            7\n",
       "1   1     1    19         18            14            4\n",
       "2   1     1    22         21            17            4\n",
       "3   1     2    29         27            19            8\n",
       "4   1     1    31         30            26            4"
      ]
     },
     "execution_count": 142,
     "metadata": {},
     "output_type": "execute_result"
    }
   ],
   "source": [
    "enfield.stats[0][0].head()"
   ]
  },
  {
   "cell_type": "code",
   "execution_count": 143,
   "id": "1ed19d5f",
   "metadata": {},
   "outputs": [
    {
     "data": {
      "text/html": [
       "<div>\n",
       "<style scoped>\n",
       "    .dataframe tbody tr th:only-of-type {\n",
       "        vertical-align: middle;\n",
       "    }\n",
       "\n",
       "    .dataframe tbody tr th {\n",
       "        vertical-align: top;\n",
       "    }\n",
       "\n",
       "    .dataframe thead th {\n",
       "        text-align: right;\n",
       "    }\n",
       "</style>\n",
       "<table border=\"1\" class=\"dataframe\">\n",
       "  <thead>\n",
       "    <tr style=\"text-align: right;\">\n",
       "      <th></th>\n",
       "      <th>day</th>\n",
       "      <th>minute</th>\n",
       "      <th>number_of_people</th>\n",
       "      <th>parking lot</th>\n",
       "      <th>parking queue</th>\n",
       "    </tr>\n",
       "  </thead>\n",
       "  <tbody>\n",
       "    <tr>\n",
       "      <th>0</th>\n",
       "      <td>1</td>\n",
       "      <td>1</td>\n",
       "      <td>4</td>\n",
       "      <td>2</td>\n",
       "      <td>0</td>\n",
       "    </tr>\n",
       "    <tr>\n",
       "      <th>1</th>\n",
       "      <td>1</td>\n",
       "      <td>2</td>\n",
       "      <td>8</td>\n",
       "      <td>4</td>\n",
       "      <td>0</td>\n",
       "    </tr>\n",
       "    <tr>\n",
       "      <th>2</th>\n",
       "      <td>1</td>\n",
       "      <td>3</td>\n",
       "      <td>12</td>\n",
       "      <td>6</td>\n",
       "      <td>0</td>\n",
       "    </tr>\n",
       "    <tr>\n",
       "      <th>3</th>\n",
       "      <td>1</td>\n",
       "      <td>4</td>\n",
       "      <td>16</td>\n",
       "      <td>8</td>\n",
       "      <td>0</td>\n",
       "    </tr>\n",
       "    <tr>\n",
       "      <th>4</th>\n",
       "      <td>1</td>\n",
       "      <td>5</td>\n",
       "      <td>18</td>\n",
       "      <td>9</td>\n",
       "      <td>0</td>\n",
       "    </tr>\n",
       "  </tbody>\n",
       "</table>\n",
       "</div>"
      ],
      "text/plain": [
       "  day minute number_of_people parking lot parking queue\n",
       "0   1      1                4           2             0\n",
       "1   1      2                8           4             0\n",
       "2   1      3               12           6             0\n",
       "3   1      4               16           8             0\n",
       "4   1      5               18           9             0"
      ]
     },
     "execution_count": 143,
     "metadata": {},
     "output_type": "execute_result"
    }
   ],
   "source": [
    "enfield.stats[0][1].head()"
   ]
  },
  {
   "cell_type": "markdown",
   "id": "28562668",
   "metadata": {},
   "source": [
    "# function to plot shoppers in store for 1 day"
   ]
  },
  {
   "cell_type": "code",
   "execution_count": 144,
   "id": "25258530",
   "metadata": {},
   "outputs": [],
   "source": [
    "def shoppers_in_store(enfield):\n",
    "    \"\"\"\n",
    "    who_is_in_store_d1 = pd.DataFrame(columns=[\"time\", 'number_of_shoppers'])\n",
    "    for j in range(enfield.hours_open*60): #adds shoppers in store based on their arrival and leaving times... but only people that COMPLETED their trip\n",
    "        in_store_count = 0\n",
    "        for i in range(len(daily_df_day1)):\n",
    "            if(daily_df_day1.loc[i]['enter']<=j and daily_df_day1.loc[i]['leave']>j):\n",
    "                in_store_count = in_store_count+1\n",
    "        who_is_in_store_d1.loc[j] = [j, in_store_count]\n",
    "    not_counted = [] #list of when shoppers who didn't finish ARRIVED\n",
    "    for i in enfield.people:\n",
    "        not_counted.append(i.enter)\n",
    "    for n in not_counted:\n",
    "        for j in range(n, enfield.hours_open*60):\n",
    "            who_is_in_store_d1.loc[j]['number_of_shoppers'] = who_is_in_store_d1.loc[j]['number_of_shoppers'] + 1\n",
    "    who_is_in_store_d1.plot(y='number_of_shoppers', use_index=True)\n",
    "    \"\"\"\n",
    "    plt.plot(enfield.stats[0][1]['number_of_people'])\n",
    "    plt.title('Number of shoppers in a day with ' + str(enfield.cars) +' cars and ' + str(enfield.parking_spots) +' parking spots')\n",
    "    plt.xlabel(\"Time (minutes)\")\n",
    "    plt.ylabel(\"Number of shoppers inside building\")\n",
    "\n",
    "    plt.show()"
   ]
  },
  {
   "cell_type": "markdown",
   "id": "835cea1e",
   "metadata": {},
   "source": [
    "# function to plot parking lot and queue for 1 day"
   ]
  },
  {
   "cell_type": "code",
   "execution_count": 145,
   "id": "2bcd3635",
   "metadata": {},
   "outputs": [],
   "source": [
    "import seaborn as sns\n",
    "\n",
    "def parking_plot(model):\n",
    "    x = model.stats[0][1]['minute']\n",
    "    y0 = model.stats[0][1]['parking lot']\n",
    "    y1 = model.stats[0][1]['parking queue']\n",
    "\n",
    "    plt.plot(x, y0, 'r')\n",
    "    plt.plot(x, y1, 'b') \n",
    "    plt.legend(['parking lot', 'parking queue'])\n",
    "    plt.xlabel(\"Time (minutes)\")\n",
    "    plt.ylabel(\"Number of cars\")\n",
    "    plt.title(\"Number of cars in lot and queue with \" + str(model.cars) + \" cars and \" + str(model.parking_spots) + \" parking spots\")\n",
    "    \n",
    "    plt.show()\n",
    "    "
   ]
  },
  {
   "cell_type": "code",
   "execution_count": 146,
   "id": "b4a7c971",
   "metadata": {},
   "outputs": [
    {
     "data": {
      "image/png": "[encoded data removed]",
      "text/plain": [
       "<Figure size 432x288 with 1 Axes>"
      ]
     },
     "metadata": {
      "needs_background": "light"
     },
     "output_type": "display_data"
    },
    {
     "data": {
      "image/png": "[encoded data removed]",
      "text/plain": [
       "<Figure size 432x288 with 1 Axes>"
      ]
     },
     "metadata": {
      "needs_background": "light"
     },
     "output_type": "display_data"
    }
   ],
   "source": [
    "shoppers_in_store(enfield)\n",
    "parking_plot(enfield)"
   ]
  },
  {
   "cell_type": "code",
   "execution_count": 147,
   "id": "659ecb0c",
   "metadata": {},
   "outputs": [
    {
     "data": {
      "image/png": "[encoded data removed]",
      "text/plain": [
       "<Figure size 432x288 with 1 Axes>"
      ]
     },
     "metadata": {
      "needs_background": "light"
     },
     "output_type": "display_data"
    },
    {
     "data": {
      "image/png": "[encoded data removed]",
      "text/plain": [
       "<Figure size 432x288 with 1 Axes>"
      ]
     },
     "metadata": {
      "needs_background": "light"
     },
     "output_type": "display_data"
    }
   ],
   "source": [
    "#change model attributes slightly\n",
    "new_cars = 65\n",
    "enfield_65 = Model(new_cars, per_car, parking_spots, hours_open, names, times, capacities, ps)\n",
    "enfield_65.simulate(1)\n",
    "shoppers_in_store(enfield_65)\n",
    "parking_plot(enfield_65)"
   ]
  },
  {
   "cell_type": "code",
   "execution_count": 148,
   "id": "05722182",
   "metadata": {},
   "outputs": [
    {
     "data": {
      "image/png": "[encoded data removed]",
      "text/plain": [
       "<Figure size 432x288 with 1 Axes>"
      ]
     },
     "metadata": {
      "needs_background": "light"
     },
     "output_type": "display_data"
    },
    {
     "data": {
      "image/png": "[encoded data removed]",
      "text/plain": [
       "<Figure size 432x288 with 1 Axes>"
      ]
     },
     "metadata": {
      "needs_background": "light"
     },
     "output_type": "display_data"
    }
   ],
   "source": [
    "new_parking_spots = 7\n",
    "enfield_65_7 = Model(new_cars, per_car, new_parking_spots, hours_open, names, times, capacities, ps)\n",
    "enfield_65_7.simulate(1)\n",
    "shoppers_in_store(enfield_65_7)\n",
    "parking_plot(enfield_65_7)"
   ]
  },
  {
   "cell_type": "markdown",
   "id": "aa61b2d8",
   "metadata": {},
   "source": [
    "# Final Report Visualizations:"
   ]
  },
  {
   "cell_type": "markdown",
   "id": "9343da82",
   "metadata": {},
   "source": [
    "### Visualization 1 (Jack)"
   ]
  },
  {
   "cell_type": "code",
   "execution_count": 157,
   "id": "c595e5dc",
   "metadata": {},
   "outputs": [],
   "source": [
    "# Initialize the model with given data from Enfield\n",
    "cars = 65\n",
    "per_car = 2\n",
    "parking_spots = 20\n",
    "hours_open = 3\n",
    "names = [\"rescued produce\", \"assorted meats\", \"baked goods\", \"clothes\", \"load car\"]\n",
    "times = [5, 5, 5, 10, 4]\n",
    "capacities = [3, 3, 3, 7, 1000] # capacity for loading car should be infinite since (assume less than 1000 shoppers at a time)\n",
    "ps = [1, 1, 1, .25, 1]\n",
    "enfield = Model(cars, per_car, parking_spots, hours_open, names, times, capacities, ps)"
   ]
  },
  {
   "cell_type": "markdown",
   "id": "93f5aef3",
   "metadata": {},
   "source": [
    "This model uses parameters based on the number of available parking spots of the proposed new building and the arrival rate, station capacities, and estimated shopping times of the current building. Cars arrive to the parking lot at a rate determined by a poisson distribution with $\\lambda = 65/(3*60) = 0.361)$. Each car contains two passengers. The shopping times are determined by an exponential distribution with $\\frac{1}{\\lambda} = 5$ which is the expected number of minutes it takes to shop at each station. This visualization can be seen as the control with standard arrival rate and parking spots."
   ]
  },
  {
   "cell_type": "code",
   "execution_count": 158,
   "id": "dad08c80",
   "metadata": {},
   "outputs": [],
   "source": [
    "enfield.simulate(14)"
   ]
  },
  {
   "cell_type": "code",
   "execution_count": 159,
   "id": "788b7110",
   "metadata": {},
   "outputs": [
    {
     "data": {
      "text/html": [
       "<div>\n",
       "<style scoped>\n",
       "    .dataframe tbody tr th:only-of-type {\n",
       "        vertical-align: middle;\n",
       "    }\n",
       "\n",
       "    .dataframe tbody tr th {\n",
       "        vertical-align: top;\n",
       "    }\n",
       "\n",
       "    .dataframe thead th {\n",
       "        text-align: right;\n",
       "    }\n",
       "</style>\n",
       "<table border=\"1\" class=\"dataframe\">\n",
       "  <thead>\n",
       "    <tr style=\"text-align: right;\">\n",
       "      <th></th>\n",
       "      <th>day</th>\n",
       "      <th>enter</th>\n",
       "      <th>leave</th>\n",
       "      <th>total_time</th>\n",
       "      <th>shopping_time</th>\n",
       "      <th>waiting_time</th>\n",
       "    </tr>\n",
       "  </thead>\n",
       "  <tbody>\n",
       "    <tr>\n",
       "      <th>0</th>\n",
       "      <td>1</td>\n",
       "      <td>1</td>\n",
       "      <td>11</td>\n",
       "      <td>10</td>\n",
       "      <td>6</td>\n",
       "      <td>4</td>\n",
       "    </tr>\n",
       "    <tr>\n",
       "      <th>1</th>\n",
       "      <td>1</td>\n",
       "      <td>1</td>\n",
       "      <td>11</td>\n",
       "      <td>10</td>\n",
       "      <td>6</td>\n",
       "      <td>4</td>\n",
       "    </tr>\n",
       "    <tr>\n",
       "      <th>2</th>\n",
       "      <td>1</td>\n",
       "      <td>4</td>\n",
       "      <td>18</td>\n",
       "      <td>14</td>\n",
       "      <td>9</td>\n",
       "      <td>5</td>\n",
       "    </tr>\n",
       "    <tr>\n",
       "      <th>3</th>\n",
       "      <td>1</td>\n",
       "      <td>7</td>\n",
       "      <td>21</td>\n",
       "      <td>14</td>\n",
       "      <td>8</td>\n",
       "      <td>6</td>\n",
       "    </tr>\n",
       "    <tr>\n",
       "      <th>4</th>\n",
       "      <td>1</td>\n",
       "      <td>4</td>\n",
       "      <td>26</td>\n",
       "      <td>22</td>\n",
       "      <td>17</td>\n",
       "      <td>5</td>\n",
       "    </tr>\n",
       "  </tbody>\n",
       "</table>\n",
       "</div>"
      ],
      "text/plain": [
       "  day enter leave total_time shopping_time waiting_time\n",
       "0   1     1    11         10             6            4\n",
       "1   1     1    11         10             6            4\n",
       "2   1     4    18         14             9            5\n",
       "3   1     7    21         14             8            6\n",
       "4   1     4    26         22            17            5"
      ]
     },
     "execution_count": 159,
     "metadata": {},
     "output_type": "execute_result"
    }
   ],
   "source": [
    "enfield.stats[0][0].head()"
   ]
  },
  {
   "cell_type": "code",
   "execution_count": 169,
   "id": "3f134c38",
   "metadata": {},
   "outputs": [
    {
     "data": {
      "text/html": [
       "<div>\n",
       "<style scoped>\n",
       "    .dataframe tbody tr th:only-of-type {\n",
       "        vertical-align: middle;\n",
       "    }\n",
       "\n",
       "    .dataframe tbody tr th {\n",
       "        vertical-align: top;\n",
       "    }\n",
       "\n",
       "    .dataframe thead th {\n",
       "        text-align: right;\n",
       "    }\n",
       "</style>\n",
       "<table border=\"1\" class=\"dataframe\">\n",
       "  <thead>\n",
       "    <tr style=\"text-align: right;\">\n",
       "      <th></th>\n",
       "      <th>day</th>\n",
       "      <th>minute</th>\n",
       "      <th>number_of_people</th>\n",
       "      <th>parking lot</th>\n",
       "      <th>parking queue</th>\n",
       "    </tr>\n",
       "  </thead>\n",
       "  <tbody>\n",
       "    <tr>\n",
       "      <th>0</th>\n",
       "      <td>1</td>\n",
       "      <td>1</td>\n",
       "      <td>2</td>\n",
       "      <td>1</td>\n",
       "      <td>0</td>\n",
       "    </tr>\n",
       "    <tr>\n",
       "      <th>1</th>\n",
       "      <td>1</td>\n",
       "      <td>2</td>\n",
       "      <td>2</td>\n",
       "      <td>1</td>\n",
       "      <td>0</td>\n",
       "    </tr>\n",
       "    <tr>\n",
       "      <th>2</th>\n",
       "      <td>1</td>\n",
       "      <td>3</td>\n",
       "      <td>2</td>\n",
       "      <td>1</td>\n",
       "      <td>0</td>\n",
       "    </tr>\n",
       "    <tr>\n",
       "      <th>3</th>\n",
       "      <td>1</td>\n",
       "      <td>4</td>\n",
       "      <td>4</td>\n",
       "      <td>2</td>\n",
       "      <td>0</td>\n",
       "    </tr>\n",
       "    <tr>\n",
       "      <th>4</th>\n",
       "      <td>1</td>\n",
       "      <td>5</td>\n",
       "      <td>4</td>\n",
       "      <td>2</td>\n",
       "      <td>0</td>\n",
       "    </tr>\n",
       "    <tr>\n",
       "      <th>...</th>\n",
       "      <td>...</td>\n",
       "      <td>...</td>\n",
       "      <td>...</td>\n",
       "      <td>...</td>\n",
       "      <td>...</td>\n",
       "    </tr>\n",
       "    <tr>\n",
       "      <th>175</th>\n",
       "      <td>1</td>\n",
       "      <td>176</td>\n",
       "      <td>39</td>\n",
       "      <td>20</td>\n",
       "      <td>1</td>\n",
       "    </tr>\n",
       "    <tr>\n",
       "      <th>176</th>\n",
       "      <td>1</td>\n",
       "      <td>177</td>\n",
       "      <td>37</td>\n",
       "      <td>20</td>\n",
       "      <td>1</td>\n",
       "    </tr>\n",
       "    <tr>\n",
       "      <th>177</th>\n",
       "      <td>1</td>\n",
       "      <td>178</td>\n",
       "      <td>36</td>\n",
       "      <td>19</td>\n",
       "      <td>1</td>\n",
       "    </tr>\n",
       "    <tr>\n",
       "      <th>178</th>\n",
       "      <td>1</td>\n",
       "      <td>179</td>\n",
       "      <td>38</td>\n",
       "      <td>20</td>\n",
       "      <td>1</td>\n",
       "    </tr>\n",
       "    <tr>\n",
       "      <th>179</th>\n",
       "      <td>1</td>\n",
       "      <td>180</td>\n",
       "      <td>38</td>\n",
       "      <td>20</td>\n",
       "      <td>3</td>\n",
       "    </tr>\n",
       "  </tbody>\n",
       "</table>\n",
       "<p>180 rows × 5 columns</p>\n",
       "</div>"
      ],
      "text/plain": [
       "    day minute number_of_people parking lot parking queue\n",
       "0     1      1                2           1             0\n",
       "1     1      2                2           1             0\n",
       "2     1      3                2           1             0\n",
       "3     1      4                4           2             0\n",
       "4     1      5                4           2             0\n",
       "..   ..    ...              ...         ...           ...\n",
       "175   1    176               39          20             1\n",
       "176   1    177               37          20             1\n",
       "177   1    178               36          19             1\n",
       "178   1    179               38          20             1\n",
       "179   1    180               38          20             3\n",
       "\n",
       "[180 rows x 5 columns]"
      ]
     },
     "execution_count": 169,
     "metadata": {},
     "output_type": "execute_result"
    }
   ],
   "source": [
    "enfield.stats[0][1]"
   ]
  },
  {
   "cell_type": "code",
   "execution_count": 161,
   "id": "3a9a2597",
   "metadata": {},
   "outputs": [
    {
     "data": {
      "text/html": [
       "<div>\n",
       "<style scoped>\n",
       "    .dataframe tbody tr th:only-of-type {\n",
       "        vertical-align: middle;\n",
       "    }\n",
       "\n",
       "    .dataframe tbody tr th {\n",
       "        vertical-align: top;\n",
       "    }\n",
       "\n",
       "    .dataframe thead th {\n",
       "        text-align: right;\n",
       "    }\n",
       "</style>\n",
       "<table border=\"1\" class=\"dataframe\">\n",
       "  <thead>\n",
       "    <tr style=\"text-align: right;\">\n",
       "      <th></th>\n",
       "      <th>days</th>\n",
       "      <th>avg_shoppers_served</th>\n",
       "      <th>avg_shoppers_arrived</th>\n",
       "      <th>avg_people_arrived</th>\n",
       "      <th>avg_cars_arrived</th>\n",
       "      <th>avg_parking_queue</th>\n",
       "      <th>avg_total_time</th>\n",
       "      <th>avg_shopping_time</th>\n",
       "      <th>avg_waiting_time</th>\n",
       "    </tr>\n",
       "  </thead>\n",
       "  <tbody>\n",
       "    <tr>\n",
       "      <th>0</th>\n",
       "      <td>14.0</td>\n",
       "      <td>73.71</td>\n",
       "      <td>110.0</td>\n",
       "      <td>136.43</td>\n",
       "      <td>68.21</td>\n",
       "      <td>4.29</td>\n",
       "      <td>55.45</td>\n",
       "      <td>18.68</td>\n",
       "      <td>36.77</td>\n",
       "    </tr>\n",
       "  </tbody>\n",
       "</table>\n",
       "</div>"
      ],
      "text/plain": [
       "   days  avg_shoppers_served  avg_shoppers_arrived  avg_people_arrived  \\\n",
       "0  14.0                73.71                 110.0              136.43   \n",
       "\n",
       "   avg_cars_arrived  avg_parking_queue  avg_total_time  avg_shopping_time  \\\n",
       "0             68.21               4.29           55.45              18.68   \n",
       "\n",
       "   avg_waiting_time  \n",
       "0             36.77  "
      ]
     },
     "execution_count": 161,
     "metadata": {},
     "output_type": "execute_result"
    }
   ],
   "source": [
    "def avg_stats(model):\n",
    "    avg_people_df = pd.DataFrame(columns = ['days',\n",
    "                             'avg_shoppers_served',\n",
    "                             'avg_shoppers_arrived',\n",
    "                             'avg_people_arrived',\n",
    "                             'avg_cars_arrived',\n",
    "                             'avg_parking_queue',\n",
    "                             'avg_total_time',\n",
    "                             'avg_shopping_time',\n",
    "                             'avg_waiting_time'])\n",
    "    people_dfs = model.stats[0][0]\n",
    "    for i in model.stats[1:]:\n",
    "        people_dfs = pd.concat([people_dfs, i[0]])\n",
    "    stats = np.array(model.arrival_stats)                         \n",
    "    avg_people_df.loc[0] = [len(model.stats),\n",
    "                            len(people_dfs.index)/len(model.stats),\n",
    "                            stats[:, 0].mean(),\n",
    "                            stats[:, 1].mean(),\n",
    "                            stats[:, 2].mean(),\n",
    "                            stats[:, 3].mean(),\n",
    "                            people_dfs['total_time'].mean(),\n",
    "                            people_dfs['shopping_time'].mean(),\n",
    "                            people_dfs['waiting_time'].mean()]\n",
    "    \n",
    "    flow_dfs = model.stats[0][1].set_index('minute')\n",
    "    for i in model.stats[1:]:\n",
    "        flow_dfs = pd.concat([flow_dfs, i[1]])\n",
    "    avg_flow_dfs = flow_dfs.groupby('minute').sum()[['number_of_people', 'parking lot', 'parking queue']]/len(model.stats)\n",
    "    return round(avg_people_df, 2), round(avg_flow_dfs, 2)\n",
    "avg_stats(enfield)[0]"
   ]
  },
  {
   "cell_type": "code",
   "execution_count": 162,
   "id": "18149778",
   "metadata": {},
   "outputs": [
    {
     "data": {
      "text/plain": [
       "Text(0.5, 1.0, 'Number of People In the Store Throughout the Day')"
      ]
     },
     "execution_count": 162,
     "metadata": {},
     "output_type": "execute_result"
    },
    {
     "data": {
      "image/png": "[encoded data removed]",
      "text/plain": [
       "<Figure size 432x288 with 1 Axes>"
      ]
     },
     "metadata": {
      "needs_background": "light"
     },
     "output_type": "display_data"
    }
   ],
   "source": [
    "plt.plot(avg_stats(enfield)[1]['number_of_people'])\n",
    "plt.ylabel('People in the Store')\n",
    "plt.xlabel('Minute of the Day')\n",
    "plt.title('Number of People In the Store Throughout the Day')"
   ]
  },
  {
   "cell_type": "code",
   "execution_count": 163,
   "id": "fffd765b",
   "metadata": {},
   "outputs": [
    {
     "data": {
      "text/plain": [
       "<matplotlib.legend.Legend at 0x26f41c1bf40>"
      ]
     },
     "execution_count": 163,
     "metadata": {},
     "output_type": "execute_result"
    },
    {
     "data": {
      "image/png": "[encoded data removed]",
      "text/plain": [
       "<Figure size 432x288 with 1 Axes>"
      ]
     },
     "metadata": {
      "needs_background": "light"
     },
     "output_type": "display_data"
    }
   ],
   "source": [
    "plt.plot(avg_stats(enfield)[1]['parking lot'], color = 'blue', label = 'Parking Lot')\n",
    "plt.plot(avg_stats(enfield)[1]['parking queue'], color = 'orange', label = 'Parking Queue')\n",
    "plt.ylabel('Number of Cars')\n",
    "plt.xlabel('Minute of the Day')\n",
    "plt.title('Cars in Parking Lot and Parking Queue Throughout the Day')\n",
    "plt.legend()"
   ]
  },
  {
   "cell_type": "markdown",
   "id": "bf45d779",
   "metadata": {},
   "source": [
    "These visualizations show the average number of people in the food pantry, cars in the parking lot, and in the parking queue at each minute of the day based on aggregated data of 14 days of simulation. From these visualizations, we can see that the maximum number of people in the food pantry at one time is about 35 people with these parameters, and the number of people grows logarithmically throughout the day.  Similarly, the number of cars in the parking lot grows logarithmically throughout the day. The parking lot has a capacity of 20 cars which it approaches around the middle of the day based on the visualization. The number of cars in the parking queue appears to grow exponentially once the parking lot reaches its maximum capacity, leading us to the conclusion that cars are arriving a lot quicker than people are able to shop in the store."
   ]
  },
  {
   "cell_type": "code",
   "execution_count": null,
   "id": "ce52d415",
   "metadata": {},
   "outputs": [],
   "source": []
  },
  {
   "cell_type": "markdown",
   "id": "074c556f",
   "metadata": {},
   "source": [
    "### Visualization 2 (Mary)\n",
    "\n",
    "This model uses the same parameters as Visualization 1, but the arrival rate within the simulation varies. Instead of a poisson arrival rate with $\\lambda = cars$, this simulation has an arrival rate such that 25% of the total cars (16) arrive at minute 1 of the simulation, and the expected remaining cars (49) arrival with a poisson distribution ($\\lambda = (49)/(3*60) = 0.272$ cars per minute). This is compared to the poisson distribution used in Visualization 1 of $\\lambda = 65/(3*60) = 0.361)$."
   ]
  },
  {
   "cell_type": "code",
   "execution_count": 226,
   "id": "06889a1b",
   "metadata": {},
   "outputs": [],
   "source": [
    "# Initialize the model with given data from Enfield\n",
    "cars = 65\n",
    "per_car = 2\n",
    "parking_spots = 20\n",
    "hours_open = 3\n",
    "names = [\"rescued produce\", \"assorted meats\", \"baked goods\", \"clothes\", \"load car\"]\n",
    "times = [5, 5, 5, 10, 4]\n",
    "capacities = [3, 3, 3, 7, 1000] # capacity for loading car should be infinite since (assume less than 1000 shoppers at a time)\n",
    "ps = [1, 1, 1, .25, 1]\n",
    "enfield2 = Model(cars, per_car, parking_spots, hours_open, names, times, capacities, ps)"
   ]
  },
  {
   "cell_type": "code",
   "execution_count": 227,
   "id": "2e3ebbb9",
   "metadata": {},
   "outputs": [],
   "source": [
    "enfield2 = Model(cars, per_car, parking_spots, hours_open, names, times, capacities, ps)\n",
    "enfield2.simulate(14)"
   ]
  },
  {
   "cell_type": "code",
   "execution_count": 228,
   "id": "1b549295",
   "metadata": {},
   "outputs": [],
   "source": [
    "# this function is adapted from visualization 1\n",
    "def avg_stats2(model):\n",
    "    avg_people_df = pd.DataFrame(columns = ['days',\n",
    "                             'avg_shoppers_served',\n",
    "                             'avg_shoppers_arrived',\n",
    "                             'avg_people_arrived',\n",
    "                             'avg_cars_arrived',\n",
    "                             'avg_parking_queue',\n",
    "                             'avg_total_time',\n",
    "                             'avg_shopping_time',\n",
    "                             'avg_waiting_time'])\n",
    "    people_dfs = model.stats[0][0]\n",
    "    for i in model.stats[1:]:\n",
    "        people_dfs = pd.concat([people_dfs, i[0]])\n",
    "    stats = np.array(model.arrival_stats)  \n",
    "#     print(stats)\n",
    "    avg_people_df.loc[0] = [len(model.stats),\n",
    "                            len(people_dfs.index)/len(model.stats),\n",
    "                            stats[:, 0].mean(),\n",
    "                            stats[:, 1].mean(),\n",
    "                            stats[:, 2].mean(),\n",
    "                            stats[:, 3].mean(),\n",
    "                            people_dfs['total_time'].mean(),\n",
    "                            people_dfs['shopping_time'].mean(),\n",
    "                            people_dfs['waiting_time'].mean()]\n",
    "    \n",
    "    flow_dfs = model.stats[0][1].set_index('minute')\n",
    "    for i in model.stats[1:]:\n",
    "        i[1] = i[1].set_index('minute') # changed because visualization 1 function didn't work for aggregating this data\n",
    "                                        # thus you can only run this function once due to this set_index\n",
    "        flow_dfs = pd.concat([flow_dfs, i[1]])\n",
    "    avg_flow_dfs = flow_dfs.groupby('minute').sum()[['number_of_people', 'parking lot', 'parking queue']]/len(model.stats)\n",
    "    return round(avg_people_df, 2), round(avg_flow_dfs, 2)"
   ]
  },
  {
   "cell_type": "code",
   "execution_count": 229,
   "id": "5ea4c685",
   "metadata": {},
   "outputs": [],
   "source": [
    "visualization2_stats0, visualization2_stats1  = avg_stats2(enfield2)"
   ]
  },
  {
   "cell_type": "markdown",
   "id": "2c34019c",
   "metadata": {},
   "source": [
    "As expected, the number of people at minute 1 in every iteration is the same: 25% of 65 total cars, or 16 cars, arrive at minute 1, resulting in exactly $2*16=32$ people in the store. This is less than the total number of parking spots, so no one is forced to wait in the queue. This arrival rate on average serves more shoppers per day but has a slightly higher average parking queue, and an over 20-minute increase in total time spent in the store due to higher average waiting times. "
   ]
  },
  {
   "cell_type": "code",
   "execution_count": 230,
   "id": "497b9468",
   "metadata": {},
   "outputs": [
    {
     "data": {
      "text/html": [
       "<div>\n",
       "<style scoped>\n",
       "    .dataframe tbody tr th:only-of-type {\n",
       "        vertical-align: middle;\n",
       "    }\n",
       "\n",
       "    .dataframe tbody tr th {\n",
       "        vertical-align: top;\n",
       "    }\n",
       "\n",
       "    .dataframe thead th {\n",
       "        text-align: right;\n",
       "    }\n",
       "</style>\n",
       "<table border=\"1\" class=\"dataframe\">\n",
       "  <thead>\n",
       "    <tr style=\"text-align: right;\">\n",
       "      <th></th>\n",
       "      <th>days</th>\n",
       "      <th>avg_shoppers_served</th>\n",
       "      <th>avg_shoppers_arrived</th>\n",
       "      <th>avg_people_arrived</th>\n",
       "      <th>avg_cars_arrived</th>\n",
       "      <th>avg_parking_queue</th>\n",
       "      <th>avg_total_time</th>\n",
       "      <th>avg_shopping_time</th>\n",
       "      <th>avg_waiting_time</th>\n",
       "    </tr>\n",
       "  </thead>\n",
       "  <tbody>\n",
       "    <tr>\n",
       "      <th>0</th>\n",
       "      <td>14.0</td>\n",
       "      <td>76.71</td>\n",
       "      <td>111.14</td>\n",
       "      <td>124.14</td>\n",
       "      <td>62.07</td>\n",
       "      <td>4.92</td>\n",
       "      <td>77.61</td>\n",
       "      <td>18.17</td>\n",
       "      <td>59.44</td>\n",
       "    </tr>\n",
       "  </tbody>\n",
       "</table>\n",
       "</div>"
      ],
      "text/plain": [
       "   days  avg_shoppers_served  avg_shoppers_arrived  avg_people_arrived  \\\n",
       "0  14.0                76.71                111.14              124.14   \n",
       "\n",
       "   avg_cars_arrived  avg_parking_queue  avg_total_time  avg_shopping_time  \\\n",
       "0             62.07               4.92           77.61              18.17   \n",
       "\n",
       "   avg_waiting_time  \n",
       "0             59.44  "
      ]
     },
     "execution_count": 230,
     "metadata": {},
     "output_type": "execute_result"
    }
   ],
   "source": [
    "visualization2_stats0"
   ]
  },
  {
   "cell_type": "code",
   "execution_count": 231,
   "id": "c4c4cfad",
   "metadata": {},
   "outputs": [
    {
     "data": {
      "text/html": [
       "<div>\n",
       "<style scoped>\n",
       "    .dataframe tbody tr th:only-of-type {\n",
       "        vertical-align: middle;\n",
       "    }\n",
       "\n",
       "    .dataframe tbody tr th {\n",
       "        vertical-align: top;\n",
       "    }\n",
       "\n",
       "    .dataframe thead th {\n",
       "        text-align: right;\n",
       "    }\n",
       "</style>\n",
       "<table border=\"1\" class=\"dataframe\">\n",
       "  <thead>\n",
       "    <tr style=\"text-align: right;\">\n",
       "      <th></th>\n",
       "      <th>number_of_people</th>\n",
       "      <th>parking lot</th>\n",
       "      <th>parking queue</th>\n",
       "    </tr>\n",
       "    <tr>\n",
       "      <th>minute</th>\n",
       "      <th></th>\n",
       "      <th></th>\n",
       "      <th></th>\n",
       "    </tr>\n",
       "  </thead>\n",
       "  <tbody>\n",
       "    <tr>\n",
       "      <th>1</th>\n",
       "      <td>32.00</td>\n",
       "      <td>16.00</td>\n",
       "      <td>0.0</td>\n",
       "    </tr>\n",
       "    <tr>\n",
       "      <th>2</th>\n",
       "      <td>32.86</td>\n",
       "      <td>16.43</td>\n",
       "      <td>0.0</td>\n",
       "    </tr>\n",
       "    <tr>\n",
       "      <th>3</th>\n",
       "      <td>33.57</td>\n",
       "      <td>16.79</td>\n",
       "      <td>0.0</td>\n",
       "    </tr>\n",
       "    <tr>\n",
       "      <th>4</th>\n",
       "      <td>33.86</td>\n",
       "      <td>16.93</td>\n",
       "      <td>0.0</td>\n",
       "    </tr>\n",
       "    <tr>\n",
       "      <th>5</th>\n",
       "      <td>34.14</td>\n",
       "      <td>17.07</td>\n",
       "      <td>0.0</td>\n",
       "    </tr>\n",
       "  </tbody>\n",
       "</table>\n",
       "</div>"
      ],
      "text/plain": [
       "        number_of_people  parking lot  parking queue\n",
       "minute                                              \n",
       "1                  32.00        16.00            0.0\n",
       "2                  32.86        16.43            0.0\n",
       "3                  33.57        16.79            0.0\n",
       "4                  33.86        16.93            0.0\n",
       "5                  34.14        17.07            0.0"
      ]
     },
     "execution_count": 231,
     "metadata": {},
     "output_type": "execute_result"
    }
   ],
   "source": [
    "visualization2_stats1.head()"
   ]
  },
  {
   "cell_type": "code",
   "execution_count": 232,
   "id": "a66ea34f",
   "metadata": {},
   "outputs": [
    {
     "data": {
      "image/png": "[encoded data removed]",
      "text/plain": [
       "<Figure size 432x288 with 1 Axes>"
      ]
     },
     "metadata": {
      "needs_background": "light"
     },
     "output_type": "display_data"
    }
   ],
   "source": [
    "plt.plot(visualization2_stats1['number_of_people'])\n",
    "\n",
    "plt.title('Average Number of shoppers in a day with ' + str(enfield2.cars) +' cars and ' + str(enfield2.parking_spots) +' parking spots')\n",
    "plt.xlabel(\"Time (minutes)\")\n",
    "plt.ylabel(\"Number of shoppers inside building\")\n",
    "plt.ylim([0, 41])\n",
    "plt.show()"
   ]
  },
  {
   "cell_type": "code",
   "execution_count": 233,
   "id": "a709e920",
   "metadata": {},
   "outputs": [
    {
     "data": {
      "image/png": "[encoded data removed]",
      "text/plain": [
       "<Figure size 432x288 with 1 Axes>"
      ]
     },
     "metadata": {
      "needs_background": "light"
     },
     "output_type": "display_data"
    }
   ],
   "source": [
    "plt.plot(visualization2_stats1['number_of_people'])\n",
    "\n",
    "plt.title('Number of shoppers in a day with ' + str(enfield2.cars) +' cars and ' + str(enfield2.parking_spots) +' parking spots')\n",
    "plt.xlabel(\"Time (minutes)\")\n",
    "plt.ylabel(\"Number of shoppers inside building\")\n",
    "plt.show()"
   ]
  },
  {
   "cell_type": "markdown",
   "id": "9b114f45",
   "metadata": {},
   "source": [
    "On average, according to the plot above, the number of shoppers generally seems to decrease throughout the day. This is because a large portion of the shoppers instantly arrive and begin shopping at the beginning of the simulation, and then the remaining 49 cars are used to create a poisson arrival rate with $\\lambda=0.272$ (49 cars for the rest of the day total) instead of $\\lambda = 0.361$ (65 cars total). This arrival rate is likely less than the general output rate of the servers of the food pantry, resulting in a general decrease throughout the day. "
   ]
  },
  {
   "cell_type": "code",
   "execution_count": 234,
   "id": "190c2a55",
   "metadata": {},
   "outputs": [
    {
     "data": {
      "text/plain": [
       "Text(0.5, 1.0, 'Number of cars in lot and queue with 65 cars and 20 parking spots')"
      ]
     },
     "execution_count": 234,
     "metadata": {},
     "output_type": "execute_result"
    },
    {
     "data": {
      "image/png": "[encoded data removed]",
      "text/plain": [
       "<Figure size 432x288 with 1 Axes>"
      ]
     },
     "metadata": {
      "needs_background": "light"
     },
     "output_type": "display_data"
    }
   ],
   "source": [
    "plt.plot(visualization2_stats1['parking lot'])\n",
    "plt.plot(visualization2_stats1['parking queue'])\n",
    "\n",
    "plt.legend(['parking lot', 'parking queue'])\n",
    "plt.xlabel(\"Time (minutes)\")\n",
    "plt.ylabel(\"Number of cars\")\n",
    "plt.title(\"Number of cars in lot and queue with \" + str(enfield2.cars) + \" cars and \" + str(enfield2.parking_spots) + \" parking spots\")"
   ]
  },
  {
   "cell_type": "markdown",
   "id": "715afaff",
   "metadata": {},
   "source": [
    "The parking lot initially starts with 16 cars and no one forced into the parking queue. However, since the parking lot has 20 spots, very quickly it fills and requires some cars to wait in the queue. The arrival rate/distribution for the rest of the cars after minute 1 is much lower than at the beginning, so cars arrive sparcely, but often arrive when the parking lot is full, thus having to wait in the queue. \n",
    "\n",
    "Although a lot of cars arrive at the beginning of the simulation, the capacities of the servers inside the food pantry do not allow all the shoppers to actively begin their tasks, so the processing rate reaches its limit. This means there isn't a time where suddenly all 16 of the original cars leave around the same time... instead these shoppers are standing around waiting for an open server and won't leave the pantry until others are finished and able to clear out."
   ]
  },
  {
   "cell_type": "code",
   "execution_count": null,
   "id": "7f5f387a",
   "metadata": {},
   "outputs": [],
   "source": []
  },
  {
   "cell_type": "markdown",
   "id": "c225a8b8",
   "metadata": {},
   "source": [
    "### Visualization 3 (Raina)\n",
    "This visualization is adapted from Visualization 1. This scenario explores the traffic flow when the parking queue is not a factor. This is accounted for by initializing the number of parking spots to be greater than the number of cars that come to the food pantry. Just like Visualization 1, cars arrive to the parking lot at a rate determined by a poisson distribution with λ = 0.361, each car contains two passengers, and the shopping times are determined by an exponential distribution with 1/λ = 5 (the expected number of minutes it takes to shop at each station)."
   ]
  },
  {
   "cell_type": "code",
   "execution_count": 7,
   "id": "e860688d",
   "metadata": {},
   "outputs": [],
   "source": [
    "# Initialize the model with given data from Enfield\n",
    "cars = 65\n",
    "per_car = 2\n",
    "parking_spots = 80 # changed from 20 to 80 - Prof. Goldberg mentioned that having a capacity of 20 could be excessive\n",
    "hours_open = 3\n",
    "names = [\"rescued produce\", \"assorted meats\", \"baked goods\", \"clothes\", \"load car\"]\n",
    "times = [5, 5, 5, 10, 4]\n",
    "capacities = [3, 3, 3, 7, 1000] # capacity for loading car should be infinite since (assume less than 1000 shoppers at a time)\n",
    "ps = [1, 1, 1, .25, 1]\n",
    "enfield3 = Model(cars, per_car, parking_spots, hours_open, names, times, capacities, ps)"
   ]
  },
  {
   "cell_type": "code",
   "execution_count": 8,
   "id": "c929c1eb",
   "metadata": {},
   "outputs": [
    {
     "data": {
      "text/html": [
       "<div>\n",
       "<style scoped>\n",
       "    .dataframe tbody tr th:only-of-type {\n",
       "        vertical-align: middle;\n",
       "    }\n",
       "\n",
       "    .dataframe tbody tr th {\n",
       "        vertical-align: top;\n",
       "    }\n",
       "\n",
       "    .dataframe thead th {\n",
       "        text-align: right;\n",
       "    }\n",
       "</style>\n",
       "<table border=\"1\" class=\"dataframe\">\n",
       "  <thead>\n",
       "    <tr style=\"text-align: right;\">\n",
       "      <th></th>\n",
       "      <th>day</th>\n",
       "      <th>enter</th>\n",
       "      <th>leave</th>\n",
       "      <th>total_time</th>\n",
       "      <th>shopping_time</th>\n",
       "      <th>waiting_time</th>\n",
       "    </tr>\n",
       "  </thead>\n",
       "  <tbody>\n",
       "    <tr>\n",
       "      <th>0</th>\n",
       "      <td>1</td>\n",
       "      <td>2</td>\n",
       "      <td>11</td>\n",
       "      <td>9</td>\n",
       "      <td>5</td>\n",
       "      <td>4</td>\n",
       "    </tr>\n",
       "    <tr>\n",
       "      <th>1</th>\n",
       "      <td>1</td>\n",
       "      <td>2</td>\n",
       "      <td>20</td>\n",
       "      <td>18</td>\n",
       "      <td>13</td>\n",
       "      <td>5</td>\n",
       "    </tr>\n",
       "    <tr>\n",
       "      <th>2</th>\n",
       "      <td>1</td>\n",
       "      <td>6</td>\n",
       "      <td>27</td>\n",
       "      <td>21</td>\n",
       "      <td>7</td>\n",
       "      <td>14</td>\n",
       "    </tr>\n",
       "    <tr>\n",
       "      <th>3</th>\n",
       "      <td>1</td>\n",
       "      <td>3</td>\n",
       "      <td>28</td>\n",
       "      <td>25</td>\n",
       "      <td>12</td>\n",
       "      <td>13</td>\n",
       "    </tr>\n",
       "    <tr>\n",
       "      <th>4</th>\n",
       "      <td>1</td>\n",
       "      <td>3</td>\n",
       "      <td>30</td>\n",
       "      <td>27</td>\n",
       "      <td>19</td>\n",
       "      <td>8</td>\n",
       "    </tr>\n",
       "  </tbody>\n",
       "</table>\n",
       "</div>"
      ],
      "text/plain": [
       "   day  enter  leave  total_time  shopping_time  waiting_time\n",
       "0    1      2     11           9              5             4\n",
       "1    1      2     20          18             13             5\n",
       "2    1      6     27          21              7            14\n",
       "3    1      3     28          25             12            13\n",
       "4    1      3     30          27             19             8"
      ]
     },
     "execution_count": 8,
     "metadata": {},
     "output_type": "execute_result"
    }
   ],
   "source": [
    "enfield3.simulate(14)\n",
    "enfield3.stats[0][0].head()\n"
   ]
  },
  {
   "cell_type": "code",
   "execution_count": 9,
   "id": "18a18125",
   "metadata": {},
   "outputs": [
    {
     "data": {
      "text/html": [
       "<div>\n",
       "<style scoped>\n",
       "    .dataframe tbody tr th:only-of-type {\n",
       "        vertical-align: middle;\n",
       "    }\n",
       "\n",
       "    .dataframe tbody tr th {\n",
       "        vertical-align: top;\n",
       "    }\n",
       "\n",
       "    .dataframe thead th {\n",
       "        text-align: right;\n",
       "    }\n",
       "</style>\n",
       "<table border=\"1\" class=\"dataframe\">\n",
       "  <thead>\n",
       "    <tr style=\"text-align: right;\">\n",
       "      <th></th>\n",
       "      <th>day</th>\n",
       "      <th>minute</th>\n",
       "      <th>number_of_people</th>\n",
       "      <th>parking lot</th>\n",
       "      <th>parking queue</th>\n",
       "    </tr>\n",
       "  </thead>\n",
       "  <tbody>\n",
       "    <tr>\n",
       "      <th>0</th>\n",
       "      <td>1</td>\n",
       "      <td>1</td>\n",
       "      <td>0</td>\n",
       "      <td>0</td>\n",
       "      <td>0</td>\n",
       "    </tr>\n",
       "    <tr>\n",
       "      <th>1</th>\n",
       "      <td>1</td>\n",
       "      <td>2</td>\n",
       "      <td>4</td>\n",
       "      <td>2</td>\n",
       "      <td>0</td>\n",
       "    </tr>\n",
       "    <tr>\n",
       "      <th>2</th>\n",
       "      <td>1</td>\n",
       "      <td>3</td>\n",
       "      <td>6</td>\n",
       "      <td>3</td>\n",
       "      <td>0</td>\n",
       "    </tr>\n",
       "    <tr>\n",
       "      <th>3</th>\n",
       "      <td>1</td>\n",
       "      <td>4</td>\n",
       "      <td>6</td>\n",
       "      <td>3</td>\n",
       "      <td>0</td>\n",
       "    </tr>\n",
       "    <tr>\n",
       "      <th>4</th>\n",
       "      <td>1</td>\n",
       "      <td>5</td>\n",
       "      <td>6</td>\n",
       "      <td>3</td>\n",
       "      <td>0</td>\n",
       "    </tr>\n",
       "    <tr>\n",
       "      <th>...</th>\n",
       "      <td>...</td>\n",
       "      <td>...</td>\n",
       "      <td>...</td>\n",
       "      <td>...</td>\n",
       "      <td>...</td>\n",
       "    </tr>\n",
       "    <tr>\n",
       "      <th>175</th>\n",
       "      <td>1</td>\n",
       "      <td>176</td>\n",
       "      <td>38</td>\n",
       "      <td>19</td>\n",
       "      <td>0</td>\n",
       "    </tr>\n",
       "    <tr>\n",
       "      <th>176</th>\n",
       "      <td>1</td>\n",
       "      <td>177</td>\n",
       "      <td>39</td>\n",
       "      <td>20</td>\n",
       "      <td>0</td>\n",
       "    </tr>\n",
       "    <tr>\n",
       "      <th>177</th>\n",
       "      <td>1</td>\n",
       "      <td>178</td>\n",
       "      <td>39</td>\n",
       "      <td>20</td>\n",
       "      <td>0</td>\n",
       "    </tr>\n",
       "    <tr>\n",
       "      <th>178</th>\n",
       "      <td>1</td>\n",
       "      <td>179</td>\n",
       "      <td>43</td>\n",
       "      <td>22</td>\n",
       "      <td>0</td>\n",
       "    </tr>\n",
       "    <tr>\n",
       "      <th>179</th>\n",
       "      <td>1</td>\n",
       "      <td>180</td>\n",
       "      <td>43</td>\n",
       "      <td>22</td>\n",
       "      <td>0</td>\n",
       "    </tr>\n",
       "  </tbody>\n",
       "</table>\n",
       "<p>180 rows × 5 columns</p>\n",
       "</div>"
      ],
      "text/plain": [
       "     day  minute  number_of_people  parking lot  parking queue\n",
       "0      1       1                 0            0              0\n",
       "1      1       2                 4            2              0\n",
       "2      1       3                 6            3              0\n",
       "3      1       4                 6            3              0\n",
       "4      1       5                 6            3              0\n",
       "..   ...     ...               ...          ...            ...\n",
       "175    1     176                38           19              0\n",
       "176    1     177                39           20              0\n",
       "177    1     178                39           20              0\n",
       "178    1     179                43           22              0\n",
       "179    1     180                43           22              0\n",
       "\n",
       "[180 rows x 5 columns]"
      ]
     },
     "execution_count": 9,
     "metadata": {},
     "output_type": "execute_result"
    }
   ],
   "source": [
    "enfield3.stats[0][1]"
   ]
  },
  {
   "cell_type": "code",
   "execution_count": 11,
   "id": "8f880181",
   "metadata": {},
   "outputs": [
    {
     "data": {
      "text/html": [
       "<div>\n",
       "<style scoped>\n",
       "    .dataframe tbody tr th:only-of-type {\n",
       "        vertical-align: middle;\n",
       "    }\n",
       "\n",
       "    .dataframe tbody tr th {\n",
       "        vertical-align: top;\n",
       "    }\n",
       "\n",
       "    .dataframe thead th {\n",
       "        text-align: right;\n",
       "    }\n",
       "</style>\n",
       "<table border=\"1\" class=\"dataframe\">\n",
       "  <thead>\n",
       "    <tr style=\"text-align: right;\">\n",
       "      <th></th>\n",
       "      <th>days</th>\n",
       "      <th>avg_shoppers_served</th>\n",
       "      <th>avg_shoppers_arrived</th>\n",
       "      <th>avg_people_arrived</th>\n",
       "      <th>avg_cars_arrived</th>\n",
       "      <th>avg_parking_queue</th>\n",
       "      <th>avg_total_time</th>\n",
       "      <th>avg_shopping_time</th>\n",
       "      <th>avg_waiting_time</th>\n",
       "    </tr>\n",
       "  </thead>\n",
       "  <tbody>\n",
       "    <tr>\n",
       "      <th>0</th>\n",
       "      <td>14.0</td>\n",
       "      <td>70.93</td>\n",
       "      <td>133.0</td>\n",
       "      <td>133.0</td>\n",
       "      <td>66.5</td>\n",
       "      <td>0.0</td>\n",
       "      <td>54.01</td>\n",
       "      <td>18.84</td>\n",
       "      <td>35.16</td>\n",
       "    </tr>\n",
       "  </tbody>\n",
       "</table>\n",
       "</div>"
      ],
      "text/plain": [
       "   days  avg_shoppers_served  avg_shoppers_arrived  avg_people_arrived  \\\n",
       "0  14.0                70.93                 133.0               133.0   \n",
       "\n",
       "   avg_cars_arrived  avg_parking_queue  avg_total_time  avg_shopping_time  \\\n",
       "0              66.5                0.0           54.01              18.84   \n",
       "\n",
       "   avg_waiting_time  \n",
       "0             35.16  "
      ]
     },
     "execution_count": 11,
     "metadata": {},
     "output_type": "execute_result"
    }
   ],
   "source": [
    "def avg_stats3(model):\n",
    "    avg_people_df = pd.DataFrame(columns = ['days',\n",
    "                             'avg_shoppers_served',\n",
    "                             'avg_shoppers_arrived',\n",
    "                             'avg_people_arrived',\n",
    "                             'avg_cars_arrived',\n",
    "                             'avg_parking_queue',\n",
    "                             'avg_total_time',\n",
    "                             'avg_shopping_time',\n",
    "                             'avg_waiting_time'])\n",
    "    people_dfs = model.stats[0][0]\n",
    "    for i in model.stats[1:]:\n",
    "        people_dfs = pd.concat([people_dfs, i[0]])\n",
    "    stats = np.array(model.arrival_stats)                         \n",
    "    avg_people_df.loc[0] = [len(model.stats),\n",
    "                            len(people_dfs.index)/len(model.stats),\n",
    "                            stats[:, 0].mean(),\n",
    "                            stats[:, 1].mean(),\n",
    "                            stats[:, 2].mean(),\n",
    "                            stats[:, 3].mean(),\n",
    "                            people_dfs['total_time'].mean(),\n",
    "                            people_dfs['shopping_time'].mean(),\n",
    "                            people_dfs['waiting_time'].mean()]\n",
    "    \n",
    "    flow_dfs = model.stats[0][1].set_index('minute')\n",
    "    for i in model.stats[1:]:\n",
    "        flow_dfs = pd.concat([flow_dfs, i[1]])\n",
    "    avg_flow_dfs = flow_dfs.groupby('minute').sum()[['number_of_people', 'parking lot', 'parking queue']]/len(model.stats)\n",
    "    return round(avg_people_df, 2), round(avg_flow_dfs, 2)\n",
    "avg_stats3(enfield3)[0]"
   ]
  },
  {
   "cell_type": "code",
   "execution_count": 12,
   "id": "84ec8cb3",
   "metadata": {},
   "outputs": [
    {
     "data": {
      "text/plain": [
       "Text(0.5, 1.0, 'Number of People In the Store Throughout the Day')"
      ]
     },
     "execution_count": 12,
     "metadata": {},
     "output_type": "execute_result"
    },
    {
     "data": {
      "image/png": "[encoded data removed]",
      "text/plain": [
       "<Figure size 432x288 with 1 Axes>"
      ]
     },
     "metadata": {
      "needs_background": "light"
     },
     "output_type": "display_data"
    }
   ],
   "source": [
    "plt.plot(avg_stats3(enfield3)[1]['number_of_people'])\n",
    "plt.ylabel('People in the Store')\n",
    "plt.xlabel('Minute of the Day')\n",
    "plt.title('Number of People In the Store Throughout the Day')"
   ]
  },
  {
   "cell_type": "code",
   "execution_count": 14,
   "id": "c1dc137a",
   "metadata": {},
   "outputs": [
    {
     "data": {
      "text/plain": [
       "<matplotlib.legend.Legend at 0x7fd2b872a670>"
      ]
     },
     "execution_count": 14,
     "metadata": {},
     "output_type": "execute_result"
    },
    {
     "data": {
      "image/png": "[encoded data removed]",
      "text/plain": [
       "<Figure size 432x288 with 1 Axes>"
      ]
     },
     "metadata": {
      "needs_background": "light"
     },
     "output_type": "display_data"
    }
   ],
   "source": [
    "plt.plot(avg_stats3(enfield3)[1]['parking lot'], color = 'green', label = 'Parking Lot')\n",
    "plt.plot(avg_stats3(enfield3)[1]['parking queue'], color = 'red', label = 'Parking Queue')\n",
    "plt.ylabel('Number of Cars')\n",
    "plt.xlabel('Minute of the Day')\n",
    "plt.title('Cars in Parking Lot and Parking Queue Throughout the Day')\n",
    "plt.legend()"
   ]
  },
  {
   "cell_type": "markdown",
   "id": "b5cf11ce",
   "metadata": {},
   "source": [
    "These visualizations show the average number of people in the food pantry, cars in the parking lot, and in the parking queue at each minute of the day based on aggregated data of 14 days of simulation. From these visualizations, we can see that the maximum number of people in the food pantry at one time is about all 65 people with these parameters, and the number of people grows linearly throughout the day. Similarly, the number of cars in the parking lot grows linearly throughout the day. The parking lot has a capacity of 80 cars, making the queue stay constant at 0. We see this depicted by the red line parallel to the x-axis."
   ]
  },
  {
   "cell_type": "code",
   "execution_count": null,
   "id": "ff6a145a",
   "metadata": {},
   "outputs": [],
   "source": []
  }
 ],
 "metadata": {
  "kernelspec": {
   "display_name": "Python 3 (ipykernel)",
   "language": "python",
   "name": "python3"
  },
  "language_info": {
   "codemirror_mode": {
    "name": "ipython",
    "version": 3
   },
   "file_extension": ".py",
   "mimetype": "text/x-python",
   "name": "python",
   "nbconvert_exporter": "python",
   "pygments_lexer": "ipython3",
   "version": "3.9.12"
  }
 },
 "nbformat": 4,
 "nbformat_minor": 5
}
